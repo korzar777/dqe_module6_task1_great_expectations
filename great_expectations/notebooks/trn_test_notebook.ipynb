{
 "cells": [
  {
   "cell_type": "markdown",
   "metadata": {},
   "source": [
    "# Validation Playground\n",
    "\n",
    "**Watch** a [short tutorial video](https://greatexpectations.io/videos/getting_started/integrate_expectations) or **read** [the written tutorial](https://docs.greatexpectations.io/en/latest/tutorials/validate_data.html?utm_source=notebook&utm_medium=validate_data)\n",
    "\n",
    "#### This notebook assumes that you created at least one expectation suite in your project.\n",
    "#### Here you will learn how to validate data in a SQL database against an expectation suite.\n",
    "\n",
    "\n",
    "We'd love it if you **reach out for help on** the [**Great Expectations Slack Channel**](https://greatexpectations.io/slack)"
   ]
  },
  {
   "cell_type": "code",
   "execution_count": 1,
   "metadata": {
    "tags": []
   },
   "outputs": [],
   "source": [
    "import great_expectations as ge\n",
    "import datetime"
   ]
  },
  {
   "cell_type": "markdown",
   "metadata": {},
   "source": [
    "## 1. Get a DataContext\n",
    "This represents your **project** that you just created using `great_expectations init`."
   ]
  },
  {
   "cell_type": "code",
   "execution_count": 2,
   "metadata": {
    "tags": []
   },
   "outputs": [],
   "source": [
    "context = ge.data_context.DataContext()"
   ]
  },
  {
   "cell_type": "markdown",
   "metadata": {},
   "source": [
    "## 2. Main project layers (Datasources, Assets, Checkpoints, Expectation Suites) \n",
    "List main items created during work"
   ]
  },
  {
   "cell_type": "code",
   "execution_count": 3,
   "metadata": {},
   "outputs": [],
   "source": [
    "datasource_name ='trn_datasource'  # TODO: set to a datasource name from above"
   ]
  },
  {
   "cell_type": "code",
   "execution_count": 4,
   "metadata": {},
   "outputs": [
    {
     "data": {
      "text/plain": [
       "['trn_datasource']"
      ]
     },
     "execution_count": 4,
     "metadata": {},
     "output_type": "execute_result"
    }
   ],
   "source": [
    "# list datasources of the type SqlAlchemyDatasource in your project\n",
    "[datasource['name'] for datasource in context.list_datasources() ]"
   ]
  },
  {
   "cell_type": "code",
   "execution_count": 5,
   "metadata": {},
   "outputs": [
    {
     "data": {
      "text/plain": [
       "['trn_checkpoint', 'trn_profile_checkpoint']"
      ]
     },
     "execution_count": 5,
     "metadata": {},
     "output_type": "execute_result"
    }
   ],
   "source": [
    "context.list_checkpoints()"
   ]
  },
  {
   "cell_type": "code",
   "execution_count": 6,
   "metadata": {},
   "outputs": [
    {
     "data": {
      "text/plain": [
       "['employees.employees_tests',\n",
       " 'jobs.jobs_extended',\n",
       " 'jobs.jobs_tests',\n",
       " 'jobs_profile']"
      ]
     },
     "execution_count": 6,
     "metadata": {},
     "output_type": "execute_result"
    }
   ],
   "source": [
    "context.list_expectation_suite_names()"
   ]
  },
  {
   "cell_type": "code",
   "execution_count": 7,
   "metadata": {},
   "outputs": [
    {
     "data": {
      "text/plain": [
       "['jobs_asset', 'employees_asset', 'jobs_profile_asset']"
      ]
     },
     "execution_count": 7,
     "metadata": {},
     "output_type": "execute_result"
    }
   ],
   "source": [
    "[asset.name for asset in context.fluent_datasources['trn_datasource'].assets]"
   ]
  },
  {
   "cell_type": "markdown",
   "metadata": {},
   "source": [
    "## 3. List of steps for loading suits/assets data and list of expectations for each suit\n",
    "\n",
    "Just to show:\n",
    " - list of validations created for different suits in structured way\n",
    " - to show mian commands that were used for that"
   ]
  },
  {
   "cell_type": "code",
   "execution_count": 8,
   "metadata": {},
   "outputs": [
    {
     "name": "stdout",
     "output_type": "stream",
     "text": [
      "{'type': 'table', 'data_asset_name': 'jobs_asset', 'table_name': 'jobs', 'schema_name': 'hr', 'batch_identifiers': {}}\n",
      "Loaded ExpectationSuite \"jobs.suite\" containing 5 expectations.\n",
      "\texpect_table_columns_to_match_ordered_list\n",
      "\texpect_table_row_count_to_be_between\n",
      "\texpect_column_min_to_be_between\n",
      "\texpect_column_max_to_be_between\n",
      "\texpect_column_mean_to_be_between\n"
     ]
    }
   ],
   "source": [
    "assets_to_validate = 'jobs_asset'\n",
    "expectation_suite_name = 'jobs.jobs_tests'\n",
    "\n",
    "datasource = context.get_datasource(datasource_name)\n",
    "suite = context.get_expectation_suite(expectation_suite_name=expectation_suite_name)\n",
    "my_asset = context.get_datasource(datasource_name).get_asset(assets_to_validate)\n",
    "batch_request = my_asset.build_batch_request()\n",
    "\n",
    "batches = datasource.get_batch_list_from_batch_request(batch_request)\n",
    "for batch in batches:\n",
    "    print(batch.batch_spec)\n",
    "    \n",
    "print(f'Loaded ExpectationSuite \"{suite.expectation_suite_name}\" containing {len(suite.expectations)} expectations.')\n",
    "for s in suite.expectations:\n",
    "    print('\\t'+s['expectation_type'])"
   ]
  },
  {
   "cell_type": "markdown",
   "metadata": {},
   "source": [
    "## 4. Validate the batch with Validation Operators\n",
    "\n",
    "1. Block1 shows steps for creating validator. Is disabled because it is not needed anymore.  \n",
    "2. Validator and other fields saved to checklist (see commented section in block2)\n",
    "3. Uncommented section in block calls checkpoint and runs tests"
   ]
  },
  {
   "cell_type": "code",
   "execution_count": 9,
   "metadata": {},
   "outputs": [
    {
     "data": {
      "application/vnd.jupyter.widget-view+json": {
       "model_id": "f5255e9cdbc54e9c8cd93c6da6ea3859",
       "version_major": 2,
       "version_minor": 0
      },
      "text/plain": [
       "Calculating Metrics:   0%|          | 0/10 [00:00<?, ?it/s]"
      ]
     },
     "metadata": {},
     "output_type": "display_data"
    },
    {
     "data": {
      "application/vnd.jupyter.widget-view+json": {
       "model_id": "b60e19564add4c4a88905299f7618226",
       "version_major": 2,
       "version_minor": 0
      },
      "text/plain": [
       "Calculating Metrics:   0%|          | 0/10 [00:00<?, ?it/s]"
      ]
     },
     "metadata": {},
     "output_type": "display_data"
    }
   ],
   "source": [
    "# Validate data\"\"\"\n",
    "\"\"\"\n",
    "checkpoint = ge.checkpoint.SimpleCheckpoint(\n",
    "    name=\"test_checkpoint\",\n",
    "    data_context=context,\n",
    "    validator=validator,\n",
    ")\n",
    "#context.add_checkpoint(checkpoint=checkpoint,expectation_suite_name=expectation_suite_name,validations=validator)\n",
    "checkpoint_result = checkpoint.run()\n",
    "\"\"\"\n",
    "retrieved_checkpoint = context.get_checkpoint(name=\"trn_checkpoint\")\n",
    "checkpoint_result = retrieved_checkpoint.run()"
   ]
  },
  {
   "cell_type": "markdown",
   "metadata": {},
   "source": [
    "## 5. View the Validation Results in Data Docs\n",
    "\n",
    "Let's now build and look at your Data Docs. These will now include an **data quality report** built from the `ValidationResults` you just created that helps you communicate about your data with both machines and humans.\n",
    "\n",
    "[Read more about Data Docs in the tutorial](https://docs.greatexpectations.io/en/latest/tutorials/validate_data.html?utm_source=notebook&utm_medium=validate_data#view-the-validation-results-in-data-docs)"
   ]
  },
  {
   "cell_type": "code",
   "execution_count": 10,
   "metadata": {},
   "outputs": [],
   "source": [
    "context.open_data_docs()"
   ]
  },
  {
   "cell_type": "markdown",
   "metadata": {},
   "source": [
    "## Congratulations! You ran Validations!\n",
    "\n",
    "## Next steps:\n",
    "\n",
    "### 1. Read about the typical workflow with Great Expectations:\n",
    "\n",
    "[typical workflow](https://docs.greatexpectations.io/en/latest/getting_started/typical_workflow.html?utm_source=notebook&utm_medium=validate_data#view-the-validation-results-in-data-docs)\n",
    "\n",
    "### 2. Explore the documentation & community\n",
    "\n",
    "You are now among the elite data professionals who know how to build robust descriptions of your data and protections for pipelines and machine learning models. Join the [**Great Expectations Slack Channel**](https://greatexpectations.io/slack) to see how others are wielding these superpowers."
   ]
  },
  {
   "cell_type": "code",
   "execution_count": null,
   "metadata": {},
   "outputs": [],
   "source": []
  }
 ],
 "metadata": {
  "kernelspec": {
   "display_name": "Python 3 (ipykernel)",
   "language": "python",
   "name": "python3"
  },
  "language_info": {
   "codemirror_mode": {
    "name": "ipython",
    "version": 3
   },
   "file_extension": ".py",
   "mimetype": "text/x-python",
   "name": "python",
   "nbconvert_exporter": "python",
   "pygments_lexer": "ipython3",
   "version": "3.10.6"
  },
  "pycharm": {
   "stem_cell": {
    "cell_type": "raw",
    "metadata": {
     "collapsed": false
    },
    "source": []
   }
  }
 },
 "nbformat": 4,
 "nbformat_minor": 4
}
